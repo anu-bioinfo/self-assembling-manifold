{
 "cells": [
  {
   "cell_type": "markdown",
   "metadata": {},
   "source": [
    "## Running SAM\n",
    "\n",
    "Below, is a quickstart tutorial to analyze scRNA-seq data using SAM and visualize results. We emphasize that SAM is not meant to be a black box. All its attributes are easily accessible and can be manipulated, visualized, and saved/exported at will. For a deeper exploration of all the attributes contained within a SAM object, feel free to explore the documentation in the source code 'SAM.py'."
   ]
  },
  {
   "cell_type": "code",
   "execution_count": 1,
   "metadata": {},
   "outputs": [],
   "source": [
    "from SAM import SAM"
   ]
  },
  {
   "cell_type": "markdown",
   "metadata": {},
   "source": [
    "Next, we initialize the SAM object. Here, we specify the path of the data file. If we have annotations, we can also specify their file path in 'ann_name'."
   ]
  },
  {
   "cell_type": "code",
   "execution_count": 2,
   "metadata": {},
   "outputs": [],
   "source": [
    "sam = SAM('GSE74596_data.csv.gz',ann_name='GSE74596_ann.csv')"
   ]
  },
  {
   "cell_type": "markdown",
   "metadata": {},
   "source": [
    "Now, we load and filter the data. SAM expects a data table of genes as rows and cells as columns. The first row of the table should be cell identifiers and the first columns of the table should be gene identifiers.\n",
    "\n",
    "Let's use all default parameters for now."
   ]
  },
  {
   "cell_type": "code",
   "execution_count": 3,
   "metadata": {},
   "outputs": [],
   "source": [
    "sam.load_data()"
   ]
  },
  {
   "cell_type": "markdown",
   "metadata": {},
   "source": [
    "To run SAM using default parameters,"
   ]
  },
  {
   "cell_type": "code",
   "execution_count": 4,
   "metadata": {},
   "outputs": [
    {
     "name": "stdout",
     "output_type": "stream",
     "text": [
      "RUNNING GSE74596_data.csv.gz\n",
      "Iteration: 0, Convergence: 0.9814897361952917\n",
      "Iteration: 1, Convergence: 0.9442553610029759\n",
      "Iteration: 2, Convergence: 0.06777848181191914\n",
      "Iteration: 3, Convergence: 0.001722450683204424\n",
      "Iteration: 4, Convergence: 0.00031593172990906915\n",
      "Computing the t-SNE embedding...\n",
      "Please run the SAM analysis first using 'run' after loading the data.\n",
      "Elapsed time: 2.8573520183563232 seconds\n"
     ]
    }
   ],
   "source": [
    "sam.run()"
   ]
  },
  {
   "cell_type": "markdown",
   "metadata": {},
   "source": [
    "## Visualization\n",
    "\n",
    "To visualize the t-SNE embedding:"
   ]
  },
  {
   "cell_type": "code",
   "execution_count": 5,
   "metadata": {},
   "outputs": [
    {
     "data": {
      "image/png": "[encoded data removed]",
      "text/plain": [
       "<Figure size 432x288 with 1 Axes>"
      ]
     },
     "metadata": {},
     "output_type": "display_data"
    }
   ],
   "source": [
    "sam.scatter()"
   ]
  },
  {
   "cell_type": "markdown",
   "metadata": {},
   "source": [
    "To visualize the t-SNE embedding with our ground truth annotations overlaid:"
   ]
  },
  {
   "cell_type": "code",
   "execution_count": 6,
   "metadata": {},
   "outputs": [
    {
     "data": {
      "image/png": "[encoded data removed]",
      "text/plain": [
       "<Figure size 432x288 with 2 Axes>"
      ]
     },
     "metadata": {},
     "output_type": "display_data"
    }
   ],
   "source": [
    "sam.scatter(c=sam.ann)"
   ]
  },
  {
   "cell_type": "markdown",
   "metadata": {},
   "source": [
    "The ranked genes are stored in 'sam.ranked_genes'. Printing the top 10 ranked_genes,"
   ]
  },
  {
   "cell_type": "code",
   "execution_count": null,
   "metadata": {},
   "outputs": [],
   "source": [
    "print( sam.ranked_genes[:10] )"
   ]
  },
  {
   "cell_type": "markdown",
   "metadata": {},
   "source": [
    "If we want to display the gene expression pattern of the number one ranked gene, we can use the following:"
   ]
  },
  {
   "cell_type": "code",
   "execution_count": null,
   "metadata": {},
   "outputs": [],
   "source": [
    "sam.show_gene_expression( sam.ranked_genes[0] )"
   ]
  },
  {
   "cell_type": "markdown",
   "metadata": {},
   "source": [
    "To display the top 3 genes,"
   ]
  },
  {
   "cell_type": "code",
   "execution_count": null,
   "metadata": {},
   "outputs": [],
   "source": [
    "sam.plot_top_genes(n_genes=3)"
   ]
  },
  {
   "cell_type": "markdown",
   "metadata": {},
   "source": [
    "To display orthogonal (or roughly orthogonal) gene expression patterns:"
   ]
  },
  {
   "cell_type": "code",
   "execution_count": null,
   "metadata": {},
   "outputs": [],
   "source": [
    "sam.plot_correlated_groups()"
   ]
  },
  {
   "cell_type": "markdown",
   "metadata": {},
   "source": [
    "To display genes correlated with a given gene:"
   ]
  },
  {
   "cell_type": "code",
   "execution_count": null,
   "metadata": {},
   "outputs": [],
   "source": [
    "sam.plot_correlated_genes( sam.ranked_genes[0] , n_genes=6 );"
   ]
  },
  {
   "cell_type": "markdown",
   "metadata": {},
   "source": [
    "## Input/Output\n",
    "\n",
    "To save the SAM object and all its contents into a Pickle file:"
   ]
  },
  {
   "cell_type": "code",
   "execution_count": null,
   "metadata": {},
   "outputs": [],
   "source": [
    "sam.save('example_save',dirname = 'output_directory')"
   ]
  },
  {
   "cell_type": "markdown",
   "metadata": {},
   "source": [
    "To load a saved SAM object:"
   ]
  },
  {
   "cell_type": "code",
   "execution_count": null,
   "metadata": {},
   "outputs": [],
   "source": [
    "sam=SAM(''); #create an empty SAM object\n",
    "sam.load('output_directory/example_save.p')"
   ]
  },
  {
   "cell_type": "markdown",
   "metadata": {},
   "source": [
    "Individual attributes within the SAM object, such as the cell-to-cell distance matrix, the list of ranked genes, the nearest neighbor matrix, the rescaled expression matrix, etc., can be manually saved/exported using any desired method.\n",
    "\n",
    "See below for a list of all attributes stored in SAM after running the analysis:"
   ]
  },
  {
   "cell_type": "code",
   "execution_count": 20,
   "metadata": {},
   "outputs": [
    {
     "data": {
      "text/plain": [
       "['filename',\n",
       " 'ann_name',\n",
       " 'k',\n",
       " 'distance',\n",
       " 'analysis_performed',\n",
       " 'params',\n",
       " 'dataset',\n",
       " 'filtered_dataset',\n",
       " 'num_expressed_genes',\n",
       " 'D',\n",
       " 'gene_names',\n",
       " 'cell_names',\n",
       " 'ann',\n",
       " 'ann_int',\n",
       " 'D_avg',\n",
       " 'weighted_data',\n",
       " 'wPCA_data',\n",
       " 'pca',\n",
       " 'dist',\n",
       " 'indices',\n",
       " 'nnm_adj',\n",
       " 'weights',\n",
       " 'ranked_genes',\n",
       " 'dt',\n",
       " 'gene_groups',\n",
       " 'geneID_groups']"
      ]
     },
     "execution_count": 20,
     "metadata": {},
     "output_type": "execute_result"
    }
   ],
   "source": [
    "list(sam.__dict__.keys())"
   ]
  },
  {
   "cell_type": "markdown",
   "metadata": {},
   "source": [
    "### After initializing the SAM object\n",
    "\n",
    "filename: The path to the data file.\n",
    "\n",
    "ann_name: The path to the cell annotations file (optional).\n",
    "\n",
    "k: The number of nearest neighbors to identify for each cell when constructing the nearest neighbor graph.\n",
    "\n",
    "distance: The distance metric used when constructing the cell-to-cell distance matrix.\n",
    "\n",
    "### After loading the expression data\n",
    "\n",
    "dataset: A Pandas DataFrame containing the original input data (cells x genes).\n",
    "\n",
    "filtered_dataset: A Pandas DataFrame containing the filtered data (cells x genes).\n",
    "\n",
    "num_expressed_genes: The number of expressed genes in each cell.\n",
    "\n",
    "D: The numpy array version of 'filtered_dataset' (equivalent to filtered_dataset.values).\n",
    "\n",
    "gene_names: A vector of the gene names (equivalent to filtered_dataset.columns).\n",
    "\n",
    "cell_names: A vector of the cell names (equivalent to filtered_dataset.index).\n",
    "\n",
    "### After loading the cell annotations\n",
    "\n",
    "ann: A vector of cell annotations if they were provided.\n",
    "\n",
    "ann_int: A vector of cell annotations converted to integers.\n",
    "\n",
    "### After running the SAM algorithm\n",
    "\n",
    "D_avg: The k-nearest-neighbor-averaged expression data.\n",
    "\n",
    "weighted_data: The rescaled expression data.\n",
    "\n",
    "wPCA_data: The weighted PCA matrix.\n",
    "\n",
    "pca: The sklearn pca object.\n",
    "\n",
    "dist: The cell-to-cell distance matrix.\n",
    "\n",
    "indices: Indices sorting the genes according to the weights in descending order (i.e. indices[0] is the index of the gene with the largest weight).\n",
    "\n",
    "nnm_adj: The nearest neighbor adjacency matrix.\n",
    "\n",
    "weights: A vector of weights for each gene.\n",
    "\n",
    "ranked_genes: The ranked list of genes, i.e. sam.gene_names[sam.indices].\n",
    "\n",
    "dt: The t-SNE embedding.\n",
    "\n",
    "gene_groups: A list of numpy arrays, where each element of the list contains a vector of gene indices that are correlated with each other.\n",
    "\n",
    "geneID_groups: A list of numpy arrays, where each element of the list contains a vector of gene IDs that are correlated with each other.\n"
   ]
  }
 ],
 "metadata": {
  "kernelspec": {
   "display_name": "Python 3",
   "language": "python",
   "name": "python3"
  },
  "language_info": {
   "codemirror_mode": {
    "name": "ipython",
    "version": 3
   },
   "file_extension": ".py",
   "mimetype": "text/x-python",
   "name": "python",
   "nbconvert_exporter": "python",
   "pygments_lexer": "ipython3",
   "version": "3.6.5"
  }
 },
 "nbformat": 4,
 "nbformat_minor": 2
}
