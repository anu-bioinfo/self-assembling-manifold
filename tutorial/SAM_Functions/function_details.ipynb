{
 "cells": [
  {
   "cell_type": "markdown",
   "metadata": {},
   "source": [
    "In this notebook, I describe in more details some functions in SAM and their use cases."
   ]
  },
  {
   "cell_type": "markdown",
   "metadata": {},
   "source": [
    "In the `SAM.py` module:\n",
    "- `load_data`\n",
    "- `load_obs_annotations`\n",
    "- `load_var_annotations`\n",
    "- `preprocess_data`\n",
    "- `run`\n",
    "- `clustering`\n",
    "- `identify_marker_genes_rf`\n",
    "\n",
    "In the `utilities.py` module:\n",
    "- `find_corr_genes`"
   ]
  },
  {
   "cell_type": "code",
   "execution_count": 1,
   "metadata": {},
   "outputs": [
    {
     "name": "stderr",
     "output_type": "stream",
     "text": [
      "/home/alec/anaconda3/envs/scrna/lib/python3.6/site-packages/anndata/_core/anndata.py:21: FutureWarning: pandas.core.index is deprecated and will be removed in a future version.  The public classes are available in the top-level namespace.\n",
      "  from pandas.core.index import RangeIndex\n"
     ]
    }
   ],
   "source": [
    "from SAM import SAM\n",
    "import utilities as ut\n",
    "import matplotlib.pyplot as plt\n",
    "%matplotlib inline"
   ]
  },
  {
   "cell_type": "code",
   "execution_count": 2,
   "metadata": {},
   "outputs": [],
   "source": [
    "sam=SAM()"
   ]
  },
  {
   "cell_type": "markdown",
   "metadata": {},
   "source": [
    "## load_data\n",
    "This function can load data into SAM from a variety of file formats."
   ]
  },
  {
   "cell_type": "code",
   "execution_count": 3,
   "metadata": {},
   "outputs": [],
   "source": [
    "sam.load_data('../../example_data/schisto2.5_tpm.csv.gz', #filename\n",
    "      transpose=True, #Transpose the data. Set to True if the file is genes x cells. Ignored if file is not '.csv' or '.txt'.\n",
    "      save_sparse_file=None, #Path (e.g. 'folder/data.h5ad'). Saves sparse representation of the data to an '.h5ad' file.\n",
    "      sep=',') #Delimeter (i.e. ',' or '\\t' or ' '). Ignored if file is not '.csv' or '.txt'.\n",
    "      #**kwargs - extra arguments can be passed into pandas.read_csv or anndata.read_h5ad."
   ]
  },
  {
   "cell_type": "markdown",
   "metadata": {},
   "source": [
    "## load_obs_annotations\n",
    "This loads cell annotations from a file or a preloaded pandas.DataFrame into `sam.adata_raw.obs` and `sam.adata.obs`. The keys added correspond to the column labels in the input table."
   ]
  },
  {
   "cell_type": "code",
   "execution_count": 4,
   "metadata": {},
   "outputs": [],
   "source": [
    "\"\"\"Loads cell annotations.\n",
    "\n",
    "Loads the cell annotations into .adata_raw.obs and .adata.obs.\n",
    "\n",
    "Parameters\n",
    "----------\n",
    "aname - string or pandas.DataFrame\n",
    "    If string, it is the path to the annotations file, which should be\n",
    "    a table with the first column being the cell IDs and the first row\n",
    "    being the column names for the annotations. Alternatively, you can\n",
    "    directly pass in a preloaded pandas.DataFrame.\n",
    "\n",
    "sep - string, default ','\n",
    "    The delimeter used in the file. Ignored if passing in a preloaded\n",
    "    pandas.DataFrame.\n",
    "\n",
    "\"\"\";"
   ]
  },
  {
   "cell_type": "markdown",
   "metadata": {},
   "source": [
    "## load_var_annotations\n",
    "This loads gene annotations from a file or a preloaded pandas.DataFrame into `sam.adata_raw.var` and `sam.adata.var`. The keys added correspond to the column labels in the input table."
   ]
  },
  {
   "cell_type": "code",
   "execution_count": 5,
   "metadata": {},
   "outputs": [],
   "source": [
    "\"\"\"Loads gene annotations.\n",
    "\n",
    "Loads the gene annotations into .adata_raw.var and .adata.var. The keys\n",
    "added correspond to the column labels in the input table.\n",
    "\n",
    "Parameters\n",
    "----------\n",
    "aname - string or pandas.DataFrame\n",
    "    If string, it is the path to the annotations file, which should be\n",
    "    a table with the first column being the gene IDs and the first row\n",
    "    being the column names for the annotations. Alternatively, you can\n",
    "    directly pass in a preloaded pandas.DataFrame.\n",
    "\n",
    "sep - string, default ','\n",
    "    The delimeter used in the file. Ignored if passing in a preloaded\n",
    "    pandas.DataFrame.\n",
    "\n",
    "\"\"\";"
   ]
  },
  {
   "cell_type": "markdown",
   "metadata": {},
   "source": [
    "## preprocess_data\n",
    "\n",
    "This function preprocesses the data (i.e. normalizing library size, log-normalizing expression values, filtering out low-expressing genes, etc).\n",
    "\n",
    "Genes that are filtered out will have all their gene-expressions set to zero in `sam.adata`. The docstring below details the available parameters and their default values."
   ]
  },
  {
   "cell_type": "code",
   "execution_count": 6,
   "metadata": {},
   "outputs": [],
   "source": [
    "\"\"\"\n",
    "Parameters\n",
    "----------\n",
    "    \n",
    "div : float, optional, default 1\n",
    "    The factor by which the gene expression will be divided prior to\n",
    "    normalization (e.g. log normalization).\n",
    "\n",
    "downsample : float, optional, default 0\n",
    "    The factor by which to randomly downsample the data. If 0, the\n",
    "    data will not be downsampled.\n",
    "\n",
    "sum_norm : str or float, optional, default None\n",
    "    If a float, the total number of transcripts in each cell will be\n",
    "    normalized to this value prior to normalization and filtering.\n",
    "    Otherwise, nothing happens. If 'cell_median', each cell is\n",
    "    normalized to have the median total read count per cell. If\n",
    "    'gene_median', each gene is normalized to have the median total\n",
    "    read count per gene.\n",
    "\n",
    "norm : str, optional, default 'log'\n",
    "    If 'log', log-normalizes the expression data. If 'ftt', applies the\n",
    "    Freeman-Tukey variance-stabilization transformation. If\n",
    "    'multinomial', applies the Pearson-residual transformation (this is\n",
    "    experimental and should only be used for raw, un-normalized UMI\n",
    "    datasets). If None, the data is not normalized.\n",
    "\n",
    "min_expression : float, optional, default 1\n",
    "    The threshold above which a gene is considered\n",
    "    expressed. Gene expression values less than 'min_expression' are\n",
    "    set to zero.\n",
    "\n",
    "thresh : float, optional, default 0.2\n",
    "    Keep genes expressed in greater than 'thresh'*100 % of cells and\n",
    "    less than (1-'thresh')*100 % of cells, where a gene is considered\n",
    "    expressed if its expression value exceeds 'min_expression'.\n",
    "\n",
    "filter_genes : bool, optional, default True\n",
    "    Setting this to False turns off filtering operations. Genes passed\n",
    "    in exclude_genes or not passed in include_genes will still be\n",
    "    filtered.\n",
    "\n",
    "\"\"\";\n",
    "sam.preprocess_data(\n",
    "    div=1, \n",
    "    downsample=0,\n",
    "    sum_norm=None, \n",
    "    norm='log',\n",
    "    min_expression=1,\n",
    "    thresh=0.01,\n",
    "    filter_genes=True)"
   ]
  },
  {
   "cell_type": "markdown",
   "metadata": {},
   "source": [
    "## run"
   ]
  },
  {
   "cell_type": "code",
   "execution_count": 7,
   "metadata": {},
   "outputs": [
    {
     "name": "stdout",
     "output_type": "stream",
     "text": [
      "RUNNING SAM\n",
      "Iteration: 0, Convergence: 0.4204733031553529\n",
      "Iteration: 1, Convergence: 0.09691534188363658\n",
      "Iteration: 2, Convergence: 0.0723683671128679\n",
      "Iteration: 3, Convergence: 0.021703446768672304\n",
      "Iteration: 4, Convergence: 0.008194948883588092\n",
      "Computing the UMAP embedding...\n",
      "Elapsed time: 4.889986991882324 seconds\n"
     ]
    }
   ],
   "source": [
    "\"\"\"Runs the Self-Assembling Manifold algorithm.\n",
    "\n",
    "Parameters\n",
    "----------\n",
    "k - int, optional, default 20\n",
    "    The number of nearest neighbors to identify for each cell.\n",
    "\n",
    "distance : string, optional, default 'correlation'\n",
    "    The distance metric to use when identifying nearest neighbors.\n",
    "    Can be any of the distance metrics supported by sklearn's 'pdist'.\n",
    "\n",
    "max_iter - int, optional, default 10\n",
    "    The maximum number of iterations SAM will run.\n",
    "\n",
    "stopping_condition - float, optional, default 5e-3\n",
    "    The stopping condition threshold for the RMSE between gene weights\n",
    "    in adjacent iterations.\n",
    "\n",
    "verbose - bool, optional, default True\n",
    "    If True, the iteration number and error between gene weights in\n",
    "    adjacent iterations will be displayed.\n",
    "\n",
    "projection - str, optional, default 'umap'\n",
    "    If 'tsne', generates a t-SNE embedding. If 'umap', generates a UMAP\n",
    "    embedding. Otherwise, no embedding will be generated.\n",
    "\n",
    "preprocessing - str, optional, default 'Normalizer'\n",
    "    If 'Normalizer', use sklearn.preprocessing.Normalizer, which\n",
    "    normalizes expression data prior to PCA such that each cell has\n",
    "    unit L2 norm. If 'StandardScaler', use\n",
    "    sklearn.preprocessing.StandardScaler, which normalizes expression\n",
    "    data prior to PCA such that each gene has zero mean and unit\n",
    "    variance. Otherwise, do not normalize the expression data. We\n",
    "    recommend using 'StandardScaler' for large datasets and\n",
    "    'Normalizer' otherwise.\n",
    "\n",
    "num_norm_avg - int, optional, default 50\n",
    "    The top 'num_norm_avg' dispersions are averaged to determine the\n",
    "    normalization factor when calculating the weights. This prevents\n",
    "    genes with large spatial dispersions from skewing the distribution\n",
    "    of weights.\n",
    "\n",
    "proj_kwargs - dict, optional, default {}\n",
    "    A dictionary of keyword arguments to pass to the projection\n",
    "    functions.\n",
    "    \n",
    "weight_PCs = bool, optional, default True\n",
    "    If True, weight the PCs by their eigenvalues. If your data has many\n",
    "    expected subpopulations, setting this to False may result in better\n",
    "    resolution as the populations may appear on lesser-varying PCs.\n",
    "\"\"\"\n",
    "sam.run(\n",
    "    max_iter=10,\n",
    "    verbose=True,\n",
    "    projection='umap',\n",
    "    stopping_condition=5e-3,\n",
    "    num_norm_avg=50,\n",
    "    k=20,\n",
    "    distance='correlation',\n",
    "    preprocessing='Normalizer',\n",
    "    proj_kwargs={})"
   ]
  },
  {
   "cell_type": "markdown",
   "metadata": {},
   "source": [
    "## clustering\n",
    "Clusters the SAM output using a variety of different clustering algorithms: leiden, louvain, kmeans, hdbscan, and dbscan. Both leiden and louvain can be run with either modularity optimization (more common) or statistical significance optimization. "
   ]
  },
  {
   "cell_type": "code",
   "execution_count": 8,
   "metadata": {},
   "outputs": [
    {
     "ename": "ModuleNotFoundError",
     "evalue": "No module named 'hdbscan'",
     "output_type": "error",
     "traceback": [
      "\u001b[0;31m---------------------------------------------------------------------------\u001b[0m",
      "\u001b[0;31mModuleNotFoundError\u001b[0m                       Traceback (most recent call last)",
      "\u001b[0;32m<ipython-input-8-d71c2453d0c2>\u001b[0m in \u001b[0;36m<module>\u001b[0;34m\u001b[0m\n\u001b[1;32m     44\u001b[0m                method = 'dbscan')\n\u001b[1;32m     45\u001b[0m sam.clustering(param = None, # ignored\n\u001b[0;32m---> 46\u001b[0;31m                method = 'hdbscan')\n\u001b[0m\u001b[1;32m     47\u001b[0m \u001b[0;34m\u001b[0m\u001b[0m\n\u001b[1;32m     48\u001b[0m \u001b[0msam\u001b[0m\u001b[0;34m.\u001b[0m\u001b[0madata\u001b[0m\u001b[0;34m.\u001b[0m\u001b[0mobs\u001b[0m\u001b[0;34m.\u001b[0m\u001b[0mhead\u001b[0m\u001b[0;34m(\u001b[0m\u001b[0;34m)\u001b[0m\u001b[0;34m\u001b[0m\u001b[0;34m\u001b[0m\u001b[0m\n",
      "\u001b[0;32m~/anaconda3/envs/scrna/lib/python3.6/site-packages/SAM.py\u001b[0m in \u001b[0;36mclustering\u001b[0;34m(self, X, param, method)\u001b[0m\n\u001b[1;32m   1185\u001b[0m             \u001b[0;32mif\u001b[0m \u001b[0mparam\u001b[0m \u001b[0;32mis\u001b[0m \u001b[0;32mNone\u001b[0m\u001b[0;34m:\u001b[0m\u001b[0;34m\u001b[0m\u001b[0;34m\u001b[0m\u001b[0m\n\u001b[1;32m   1186\u001b[0m                 \u001b[0mparam\u001b[0m \u001b[0;34m=\u001b[0m \u001b[0;36m25\u001b[0m\u001b[0;34m;\u001b[0m\u001b[0;34m\u001b[0m\u001b[0;34m\u001b[0m\u001b[0m\n\u001b[0;32m-> 1187\u001b[0;31m             \u001b[0mcl\u001b[0m \u001b[0;34m=\u001b[0m \u001b[0mself\u001b[0m\u001b[0;34m.\u001b[0m\u001b[0mhdbknn_clustering\u001b[0m\u001b[0;34m(\u001b[0m\u001b[0mnpcs\u001b[0m \u001b[0;34m=\u001b[0m \u001b[0mparam\u001b[0m\u001b[0;34m)\u001b[0m\u001b[0;34m\u001b[0m\u001b[0;34m\u001b[0m\u001b[0m\n\u001b[0m\u001b[1;32m   1188\u001b[0m         \u001b[0;32melif\u001b[0m \u001b[0mmethod\u001b[0m \u001b[0;34m==\u001b[0m \u001b[0;34m'dbscan'\u001b[0m\u001b[0;34m:\u001b[0m\u001b[0;34m\u001b[0m\u001b[0;34m\u001b[0m\u001b[0m\n\u001b[1;32m   1189\u001b[0m             \u001b[0;32mif\u001b[0m \u001b[0mparam\u001b[0m \u001b[0;32mis\u001b[0m \u001b[0;32mNone\u001b[0m\u001b[0;34m:\u001b[0m\u001b[0;34m\u001b[0m\u001b[0;34m\u001b[0m\u001b[0m\n",
      "\u001b[0;32m~/anaconda3/envs/scrna/lib/python3.6/site-packages/SAM.py\u001b[0m in \u001b[0;36mhdbknn_clustering\u001b[0;34m(self, X, k, npcs, **kwargs)\u001b[0m\n\u001b[1;32m   1319\u001b[0m \u001b[0;34m\u001b[0m\u001b[0m\n\u001b[1;32m   1320\u001b[0m     \u001b[0;32mdef\u001b[0m \u001b[0mhdbknn_clustering\u001b[0m\u001b[0;34m(\u001b[0m\u001b[0mself\u001b[0m\u001b[0;34m,\u001b[0m \u001b[0mX\u001b[0m\u001b[0;34m=\u001b[0m\u001b[0;32mNone\u001b[0m\u001b[0;34m,\u001b[0m \u001b[0mk\u001b[0m\u001b[0;34m=\u001b[0m\u001b[0;32mNone\u001b[0m\u001b[0;34m,\u001b[0m \u001b[0mnpcs\u001b[0m \u001b[0;34m=\u001b[0m \u001b[0;36m15\u001b[0m\u001b[0;34m,\u001b[0m \u001b[0;34m**\u001b[0m\u001b[0mkwargs\u001b[0m\u001b[0;34m)\u001b[0m\u001b[0;34m:\u001b[0m\u001b[0;34m\u001b[0m\u001b[0;34m\u001b[0m\u001b[0m\n\u001b[0;32m-> 1321\u001b[0;31m         \u001b[0;32mimport\u001b[0m \u001b[0mhdbscan\u001b[0m\u001b[0;34m\u001b[0m\u001b[0;34m\u001b[0m\u001b[0m\n\u001b[0m\u001b[1;32m   1322\u001b[0m         \u001b[0;32mif\u001b[0m \u001b[0mX\u001b[0m \u001b[0;32mis\u001b[0m \u001b[0;32mNone\u001b[0m\u001b[0;34m:\u001b[0m\u001b[0;34m\u001b[0m\u001b[0;34m\u001b[0m\u001b[0m\n\u001b[1;32m   1323\u001b[0m             \u001b[0;31m#X = self.adata.obsm['X_pca']\u001b[0m\u001b[0;34m\u001b[0m\u001b[0;34m\u001b[0m\u001b[0;34m\u001b[0m\u001b[0m\n",
      "\u001b[0;31mModuleNotFoundError\u001b[0m: No module named 'hdbscan'"
     ]
    }
   ],
   "source": [
    "\"\"\"A wrapper for clustering the SAM output using various clustering\n",
    "algorithms\n",
    "\n",
    "Parameters\n",
    "----------\n",
    "X - data, optional, default None\n",
    "    Data to be passed into the selected clustering algorithm. If None,\n",
    "    uses the data in the SAM AnnData object. Different clustering\n",
    "    algorithms accept different types of data. For example, Louvain\n",
    "    and Leiden accept a scipy.sparse adjacency matrix representing the\n",
    "    nearest neighbor graph. Dbscan, kmeans, and Hdbscan accept\n",
    "    coordinates (like UMAP coordinates or PCA coordinates). If None,\n",
    "    cluster results are saved to the 'obs' attribute in the AnnData\n",
    "    object. Otherwise, cluster results are returned.\n",
    "\n",
    "param : float, optional, default None\n",
    "    The parameter used for the different clustering algorithms. For\n",
    "    louvain and leiden, it is the resolution parameter. For dbscan, it\n",
    "    is the distance parameter. For kmeans, it is the number of clusters.\n",
    "\n",
    "method : string, optional, default 'leiden'\n",
    "    Determines which clustering method is run.\n",
    "    'leiden' - Leiden clustering with modularity optimization\n",
    "    'leiden_sig' - Leiden clustering with significance optimization\n",
    "    'louvain' - Louvain clustering with modularity optimization\n",
    "    'louvain_sig' - Louvain clustering with significance optimization\n",
    "    'kmeans' - Kmeans clustering\n",
    "    'dbscan' - DBSCAN clustering\n",
    "    'hdbscan' - HDBSCAN clustering\n",
    "    If X is None, cluster assignments are saved in '.adata.obs' with\n",
    "    key name equal to method + '_clusters'. Otherwise, they are returned.\n",
    "\"\"\";\n",
    "sam.clustering(param = 1, #resolution parameter\n",
    "               method = 'leiden')\n",
    "sam.clustering(param = None, #ignored\n",
    "               method = 'leiden_sig')\n",
    "sam.clustering(param = 1, #resolution parameter\n",
    "               method = 'louvain')\n",
    "sam.clustering(param = None, #ignored\n",
    "               method = 'louvain_sig')\n",
    "sam.clustering(param = 4, # #clusters\n",
    "               method = 'kmeans')\n",
    "sam.clustering(param = 0.25, # distance parameter\n",
    "               method = 'dbscan')\n",
    "sam.clustering(param = None, # ignored\n",
    "               method = 'hdbscan')\n",
    "\n",
    "sam.adata.obs.head()"
   ]
  },
  {
   "cell_type": "markdown",
   "metadata": {},
   "source": [
    "## identify_marker_genes_rf\n",
    "\n",
    "Ranks marker genes for each cluster using a random forest classification approach."
   ]
  },
  {
   "cell_type": "code",
   "execution_count": null,
   "metadata": {},
   "outputs": [],
   "source": [
    "\"\"\"\n",
    "Ranks marker genes for each cluster using a random forest\n",
    "classification approach.\n",
    "\n",
    "Parameters\n",
    "----------\n",
    "\n",
    "labels - numpy.array or str, optional, default None\n",
    "    Cluster labels to use for marker gene identification.\n",
    "    Can also be a string corresponding to any of the keys\n",
    "    in adata.obs.\n",
    "\n",
    "clusters - int/string or array-like, default None\n",
    "    A cluster ID (int or string depending on the labels used)\n",
    "    or vector corresponding to the specific cluster ID(s) for\n",
    "    which marker genes will be calculated. If None, marker genes\n",
    "    will be computed for all clusters, and the result will be written\n",
    "    to adata.uns.\n",
    "\n",
    "n_genes - int, optional, default 4000\n",
    "    By default, trains the classifier on the top 4000 SAM-weighted\n",
    "    genes.\n",
    "\n",
    "Returns\n",
    "-------\n",
    "(dictionary of markers for each cluster,\n",
    "dictionary of marker scores for each cluster)\n",
    "\"\"\"\n",
    "markers1, marker_scores1 = sam.identify_marker_genes_rf(labels = 'dbscan_clusters', clusters = [0,1])\n",
    "markers2, marker_scores2 = sam.identify_marker_genes_rf(labels = 'louvain_clusters', clusters = None)"
   ]
  },
  {
   "cell_type": "markdown",
   "metadata": {},
   "source": [
    "Markers were only computed for clusters 0 and 1 using dbscan labels. "
   ]
  },
  {
   "cell_type": "code",
   "execution_count": null,
   "metadata": {},
   "outputs": [],
   "source": [
    "markers1, marker_scores1"
   ]
  },
  {
   "cell_type": "markdown",
   "metadata": {},
   "source": [
    "Markers were computed for all clusters using louvain labels. Because `clusters=None`, the output was also written to `sam.adata.uns`."
   ]
  },
  {
   "cell_type": "code",
   "execution_count": null,
   "metadata": {},
   "outputs": [],
   "source": [
    "markers2,marker_scores2"
   ]
  },
  {
   "cell_type": "code",
   "execution_count": null,
   "metadata": {},
   "outputs": [],
   "source": [
    "sam.adata"
   ]
  },
  {
   "cell_type": "markdown",
   "metadata": {},
   "source": [
    "## find_corr_genes\n",
    "\n",
    "This function ranks genes by correlation to an input gene, computing correlation coefficients on the spatially-averaged gene expression data (`sam.adata.layers['X_knn_avg']`). This allows one to find genes with similar spatial gene expression patterns."
   ]
  },
  {
   "cell_type": "code",
   "execution_count": null,
   "metadata": {},
   "outputs": [],
   "source": [
    "\"\"\"Rank genes by their spatially averaged expression pattern correlations to\n",
    "a desired gene.\n",
    "\n",
    "Parameters\n",
    "----------\n",
    "\n",
    "sam - SAM\n",
    "    The analyzed SAM object\n",
    "\n",
    "input_gene - string\n",
    "    The gene ID with respect to which correlations will be computed.\n",
    "\n",
    "Returns\n",
    "-------\n",
    "A ranked list of gene IDs based on correlation to the input gene.\n",
    "\"\"\"\n",
    "genes = ut.find_corr_genes(sam,'Smp_051920')\n",
    "print(genes[:20])\n",
    "\n",
    "fig,axs = plt.subplots(1,5)\n",
    "fig.set_size_inches((18,3))\n",
    "for i in range(5):\n",
    "    sam.show_gene_expression(genes[i],axes=axs[i], cmap = 'Spectral_r')"
   ]
  }
 ],
 "metadata": {
  "kernelspec": {
   "display_name": "Python 3",
   "language": "python",
   "name": "python3"
  },
  "language_info": {
   "codemirror_mode": {
    "name": "ipython",
    "version": 3
   },
   "file_extension": ".py",
   "mimetype": "text/x-python",
   "name": "python",
   "nbconvert_exporter": "python",
   "pygments_lexer": "ipython3",
   "version": "3.6.10"
  }
 },
 "nbformat": 4,
 "nbformat_minor": 2
}
