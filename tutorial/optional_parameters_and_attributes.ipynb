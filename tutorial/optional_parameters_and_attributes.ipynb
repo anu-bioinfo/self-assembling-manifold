{
 "cells": [
  {
   "cell_type": "code",
   "execution_count": null,
   "metadata": {},
   "outputs": [],
   "source": [
    "from SAM import SAM"
   ]
  },
  {
   "cell_type": "markdown",
   "metadata": {},
   "source": [
    "This notebook explores the different parameters of the SAM functions more deeply"
   ]
  },
  {
   "cell_type": "markdown",
   "metadata": {},
   "source": [
    "## Preprocessing the data"
   ]
  },
  {
   "cell_type": "code",
   "execution_count": null,
   "metadata": {},
   "outputs": [],
   "source": [
    "sam = SAM()\n",
    "sam.load_data('../example_data/GSE74596_data.csv.gz')"
   ]
  },
  {
   "cell_type": "markdown",
   "metadata": {},
   "source": [
    "Shown below are all the possible parameters to the data preprocessing function."
   ]
  },
  {
   "cell_type": "code",
   "execution_count": null,
   "metadata": {},
   "outputs": [],
   "source": [
    "\"\"\"\n",
    "div : float, optional, default 1\n",
    "    The factor by which the gene expression will be divided prior to\n",
    "    log normalization.\n",
    "\n",
    "downsample : float, optional, default 0\n",
    "    The factor by which to randomly downsample the data. If 0, the\n",
    "    data will not be downsampled.\n",
    "\n",
    "sum_norm : float, optional, default None\n",
    "    If specified, the total number of transcripts in each cell will be\n",
    "    normalized to this value prior to log normalization and filtering.\n",
    "    Otherwise, nothing happens.\n",
    "\n",
    "norm : str, optional, default 'log'\n",
    "    If 'log', log-normalizes the expression data. If the loaded data is\n",
    "    already log-normalized, set norm = None.\n",
    "\n",
    "include_genes : array-like of string, optional, default None\n",
    "    A vector of gene names or indices that specifies the genes to keep.\n",
    "    All other genes will be filtered out. Gene names are case-sensitive.\n",
    "\n",
    "exclude_genes : array-like of string, optional, default None\n",
    "    A vector of gene names or indices that specifies the genes to exclude.\n",
    "    These genes will be filtered out. Gene names are case-sensitive.\n",
    "\n",
    "include_cells : array-like of string, optional, default None\n",
    "    A vector of cell names that specifies the cells to keep.\n",
    "    All other cells will be filtered out. Cell names are\n",
    "    case-sensitive.\n",
    "\n",
    "exclude_cells : array-like of string, optional, default None\n",
    "    A vector of cell names that specifies the cells to exclude.\n",
    "    Thses cells will be filtered out. Cell names are\n",
    "    case-sensitive.\n",
    "\n",
    "min_expression : float, optional, default 1\n",
    "    The threshold above which a gene is considered\n",
    "    expressed. Gene expression values less than 'min_expression' are\n",
    "    set to zero.\n",
    "\n",
    "thresh : float, optional, default 0.2\n",
    "    Keep genes expressed in greater than 'thresh'*100 % of cells and\n",
    "    less than (1-'thresh')*100 % of cells, where a gene is considered\n",
    "    expressed if its expression value exceeds 'min_expression'.\n",
    "\n",
    "filter_genes : bool, optional, default True\n",
    "    Setting this to False turns off filtering operations aside from\n",
    "    removing genes with zero expression across all cells. Genes passed\n",
    "    in exclude_genes or not passed in include_genes will still be\n",
    "    filtered.\n",
    "\"\"\"\n",
    "\n",
    "sam.preprocess_data(div=1,\n",
    "                    downsample=0,\n",
    "                    sum_norm=None,\n",
    "                    include_genes=None,\n",
    "                    exclude_genes=None,\n",
    "                    include_cells=None,\n",
    "                    exclude_cells=None,\n",
    "                    norm='log',\n",
    "                    min_expression=1,\n",
    "                    thresh=0.01,\n",
    "                    filter_genes=True)"
   ]
  },
  {
   "cell_type": "markdown",
   "metadata": {},
   "source": [
    "In most cases, the default preprocessing parameters do not need to be changed."
   ]
  },
  {
   "cell_type": "markdown",
   "metadata": {},
   "source": [
    "## Running SAM"
   ]
  },
  {
   "cell_type": "code",
   "execution_count": null,
   "metadata": {},
   "outputs": [],
   "source": [
    "\"\"\"\n",
    "k - int, optional, default 20\n",
    "    The number of nearest neighbors to identify for each cell.\n",
    "\n",
    "distance : string, optional, default 'correlation'\n",
    "    The distance metric to use when constructing cell distance\n",
    "    matrices. Can be any of the distance metrics supported by\n",
    "    sklearn's 'pdist'.\n",
    "\n",
    "max_iter - int, optional, default 10\n",
    "    The maximum number of iterations SAM will run.\n",
    "\n",
    "stopping_condition - float, optional, default 5e-3\n",
    "    The stopping condition threshold for the RMSE between gene weights in \n",
    "    adjacent iterations.\n",
    "\n",
    "verbose - bool, optional, default True\n",
    "    If True, the iteration number and error between gene weights in adjacent\n",
    "    iterations will be displayed.\n",
    "\n",
    "projection - str, optional, default 'umap'\n",
    "    If 'tsne', generates a t-SNE embedding. If 'umap', generates a UMAP\n",
    "    embedding. Otherwise, no embedding will be generated.\n",
    "\n",
    "preprocessing - str, optional, default 'Normalizer'\n",
    "    If 'Normalizer', use sklearn.preprocessing.Normalizer, which\n",
    "    normalizes expression data prior to PCA such that each cell has\n",
    "    unit L2 norm. If 'StandardScaler', use\n",
    "    sklearn.preprocessing.StandardScaler, which normalizes expression\n",
    "    data prior to PCA such that each gene has zero mean and unit\n",
    "    variance. Otherwise, do not normalize the expression data. We\n",
    "    recommend using 'StandardScaler' for large datasets and 'Normalizer'\n",
    "    otherwise.\n",
    "\n",
    "num_norm_avg - int, optional, default 50\n",
    "    The top 'num_norm_avg' dispersions are averaged to determine the\n",
    "    normalization factor when calculating the weights. This prevents\n",
    "    genes with large spatial dispersions from skewing the distribution\n",
    "    of weights.\n",
    "\"\"\"\n",
    "\n",
    "sam.run(k=20,\n",
    "        distance='correlation',\n",
    "        max_iter=10,\n",
    "        verbose=True,\n",
    "        projection='umap',        \n",
    "        stopping_condition=5e-3,\n",
    "        num_norm_avg=50,\n",
    "        preprocessing='Normalizer')"
   ]
  },
  {
   "cell_type": "markdown",
   "metadata": {},
   "source": [
    "## Key SAM attributes"
   ]
  },
  {
   "cell_type": "markdown",
   "metadata": {},
   "source": [
    "SAM outputs a number of useful objects stored in the `sam.adata` or `sam.output_vars` objects. For example, `sam.output_vars` contains the nearest neighbor matrix, the UMAP projection, ranked genes, the indices of the ranked genes in the data matrix, the cluster assignments, and marker genes."
   ]
  },
  {
   "cell_type": "code",
   "execution_count": null,
   "metadata": {},
   "outputs": [],
   "source": [
    "print(list(sam.output_vars.keys()))"
   ]
  },
  {
   "cell_type": "code",
   "execution_count": null,
   "metadata": {},
   "outputs": [],
   "source": [
    "sam.adata"
   ]
  },
  {
   "cell_type": "markdown",
   "metadata": {},
   "source": [
    "See below for a list of all attributes stored in SAM after running the analysis. Refer to the code documentation (in `SAM.py`) for a description of these attributes."
   ]
  },
  {
   "cell_type": "code",
   "execution_count": null,
   "metadata": {},
   "outputs": [],
   "source": [
    "list(sam.__dict__.keys())"
   ]
  },
  {
   "cell_type": "code",
   "execution_count": null,
   "metadata": {},
   "outputs": [],
   "source": []
  }
 ],
 "metadata": {
  "kernelspec": {
   "display_name": "Python 3",
   "language": "python",
   "name": "python3"
  },
  "language_info": {
   "codemirror_mode": {
    "name": "ipython",
    "version": 3
   },
   "file_extension": ".py",
   "mimetype": "text/x-python",
   "name": "python",
   "nbconvert_exporter": "python",
   "pygments_lexer": "ipython3",
   "version": "3.6.8"
  }
 },
 "nbformat": 4,
 "nbformat_minor": 2
}
