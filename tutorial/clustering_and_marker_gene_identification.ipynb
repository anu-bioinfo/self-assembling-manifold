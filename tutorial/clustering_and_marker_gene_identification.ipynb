{
 "cells": [
  {
   "cell_type": "code",
   "execution_count": null,
   "metadata": {},
   "outputs": [],
   "source": [
    "from SAM import SAM\n",
    "sam = SAM()\n",
    "sam.load_data('../example_data/GSE74596_data.csv.gz')\n",
    "sam.preprocess_data()\n",
    "sam.load_annotations('../example_data/GSE74596_ann.csv')\n",
    "sam.run()"
   ]
  },
  {
   "cell_type": "markdown",
   "metadata": {},
   "source": [
    "## Clustering cells\n",
    "\n",
    "After running SAM, we can cluster cells using one of four different methods:"
   ]
  },
  {
   "cell_type": "code",
   "execution_count": null,
   "metadata": {},
   "outputs": [],
   "source": [
    "sam.louvain_clustering(res = 1, method = 'modularity')\n",
    "sam.kmeans_clustering(4)\n",
    "sam.density_clustering()\n",
    "sam.hdbknn_clustering()"
   ]
  },
  {
   "cell_type": "markdown",
   "metadata": {},
   "source": [
    "`density_clustering` applies DBSCAN to the UMAP projection. \n",
    "\n",
    "\n",
    "`hdbknn_clustering` applies a slightly-modified version of HDBSCAN to the PC matrix."
   ]
  },
  {
   "cell_type": "markdown",
   "metadata": {},
   "source": [
    "The clustering results are stored in the AnnData object `sam.adata` OR within the dictionary `sam.output_vars`:"
   ]
  },
  {
   "cell_type": "code",
   "execution_count": null,
   "metadata": {},
   "outputs": [],
   "source": [
    "\"\"\"\n",
    "sam.adata.obs['louvain_clusters']\n",
    "sam.adata.obs['kmeans_clusters']\n",
    "sam.adata.obs['density_clusters']\n",
    "sam.adata.obs['hdbknn_clusters']\n",
    "\n",
    "sam.output_vars['louvain_clusters']\n",
    "sam.output_vars['kmeans_clusters']\n",
    "sam.output_vars['density_clusters']\n",
    "sam.output_vars['hdbknn_clusters']\n",
    "\"\"\""
   ]
  },
  {
   "cell_type": "markdown",
   "metadata": {},
   "source": [
    "To visualize the results:"
   ]
  },
  {
   "cell_type": "code",
   "execution_count": null,
   "metadata": {},
   "outputs": [],
   "source": [
    "sam.scatter( c = sam.output_vars['louvain_clusters'] )\n",
    "sam.scatter( c = sam.output_vars['kmeans_clusters'] )\n",
    "sam.scatter( c = sam.output_vars['density_clusters'] )\n",
    "sam.scatter( c = sam.output_vars['hdbknn_clusters'] )"
   ]
  },
  {
   "cell_type": "markdown",
   "metadata": {},
   "source": [
    "## Marker gene identification"
   ]
  },
  {
   "cell_type": "markdown",
   "metadata": {},
   "source": [
    "SAM has two built-in functions to identify marker genes. One uses a random forest classifier to determine the importance of each gene in defining each cluster, whereas the other uses a fold-change approach to rank genes based on their enrichment in each cluster."
   ]
  },
  {
   "cell_type": "code",
   "execution_count": null,
   "metadata": {},
   "outputs": [],
   "source": [
    "# Random forest using louvain clustering labels:\n",
    "sam.identify_marker_genes_rf(labels = 'louvain_clusters');\n",
    "sam.identify_marker_genes_ratio(labels = 'louvain_clusters');\n",
    "\n",
    "markers = sam.output_vars['marker_genes_rf']\n",
    "#markers = sam.output_vars['marker_genes_ratio']"
   ]
  },
  {
   "cell_type": "markdown",
   "metadata": {},
   "source": [
    "The result has dimensions (n_clusters x n_genes).\n",
    "\n",
    "For example, `markers[3,0]` is the top-ranked marker gene for cluster 3 and `markers[0,5]` is the fifth-ranked marker gene for cluster 0 using the random forest classifier approach.\n",
    "\n",
    "Visualizing the top 3 markers for the first two clusters:"
   ]
  },
  {
   "cell_type": "code",
   "execution_count": null,
   "metadata": {},
   "outputs": [],
   "source": [
    "for i in range(2):\n",
    "    for j in range(3):\n",
    "        sam.show_gene_expression(markers[i,j])"
   ]
  },
  {
   "cell_type": "markdown",
   "metadata": {},
   "source": [
    "## Identifying correlated groups of genes\n",
    "\n",
    "SAM also has a built-in function to identify correlated groups of genes: `sam.corr_bin_genes`. This function is automatically called at the end of `sam.run`. We can plot the highest-ranked genes from each bin using `sam.plot_correlated_groups`"
   ]
  },
  {
   "cell_type": "code",
   "execution_count": null,
   "metadata": {},
   "outputs": [],
   "source": [
    "#sam.corr_bin_genes()\n",
    "sam.plot_correlated_groups()"
   ]
  },
  {
   "cell_type": "markdown",
   "metadata": {},
   "source": [
    "This function can also be used to identify genes that are correlated with a particular gene of interest by using the `input_gene` argument."
   ]
  },
  {
   "cell_type": "code",
   "execution_count": null,
   "metadata": {},
   "outputs": [],
   "source": [
    "genes = sam.corr_bin_genes(input_gene=markers[0,0])\n",
    "\n",
    "for i in range(3):\n",
    "    sam.show_gene_expression(genes[i])"
   ]
  }
 ],
 "metadata": {
  "kernelspec": {
   "display_name": "Python 3",
   "language": "python",
   "name": "python3"
  },
  "language_info": {
   "codemirror_mode": {
    "name": "ipython",
    "version": 3
   },
   "file_extension": ".py",
   "mimetype": "text/x-python",
   "name": "python",
   "nbconvert_exporter": "python",
   "pygments_lexer": "ipython3",
   "version": "3.7.0"
  }
 },
 "nbformat": 4,
 "nbformat_minor": 2
}
