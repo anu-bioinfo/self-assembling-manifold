{
 "cells": [
  {
   "cell_type": "code",
   "execution_count": null,
   "metadata": {},
   "outputs": [],
   "source": [
    "from SAM import SAM\n",
    "sam = SAM()\n",
    "sam.load_data('../example_data/GSE74596_data.csv.gz')\n",
    "sam.preprocess_data()\n",
    "sam.load_annotations('../example_data/GSE74596_ann.csv')\n",
    "sam.run()\n",
    "sam.run_tsne()\n",
    "sam.louvain_clustering()"
   ]
  },
  {
   "cell_type": "markdown",
   "metadata": {},
   "source": [
    "To display a scatter plot of the UMAP projection:"
   ]
  },
  {
   "cell_type": "code",
   "execution_count": null,
   "metadata": {},
   "outputs": [],
   "source": [
    "sam.scatter()"
   ]
  },
  {
   "cell_type": "markdown",
   "metadata": {},
   "source": [
    "To display a scatter plot of the t-SNE projection:"
   ]
  },
  {
   "cell_type": "code",
   "execution_count": null,
   "metadata": {},
   "outputs": [],
   "source": [
    "sam.scatter(projection='X_tsne')"
   ]
  },
  {
   "cell_type": "markdown",
   "metadata": {},
   "source": [
    "The `c` argument can be cluster labels, annotations, a key string corresponding to an item in `sam.adata.obs`, or a color (e.g. 'black'). If the `colorbar` argument is set to False, the colorbar will not be shown."
   ]
  },
  {
   "cell_type": "code",
   "execution_count": null,
   "metadata": {},
   "outputs": [],
   "source": [
    "sam.scatter(c='louvain_clusters') #item in sam.adata.obs\n",
    "sam.scatter(c='louvain_clusters',colorbar=False)\n",
    "sam.scatter(c='annotations') #item in sam.adata.obs\n",
    "sam.scatter(c='black')\n",
    "\n",
    "annotations = sam.adata.obs['annotations'].values\n",
    "sam.scatter(c=annotations) #equivalent to line(3)"
   ]
  },
  {
   "cell_type": "markdown",
   "metadata": {},
   "source": [
    "You can plot to existing matplotlib axes by using the `axes` argument:"
   ]
  },
  {
   "cell_type": "code",
   "execution_count": null,
   "metadata": {},
   "outputs": [],
   "source": [
    "import matplotlib.pyplot as plt\n",
    "plt.figure(figsize=(8,8));\n",
    "ax = plt.gca();\n",
    "sam.scatter(axes = ax)"
   ]
  },
  {
   "cell_type": "markdown",
   "metadata": {},
   "source": [
    "The same arguments that can be passed into `matplotlib.pyplot.scatter` apply here. For example,"
   ]
  },
  {
   "cell_type": "code",
   "execution_count": null,
   "metadata": {},
   "outputs": [],
   "source": [
    "sam.scatter(c='annotations',cmap='Spectral',\n",
    "            s=20,linewidth=0.5,edgecolor='goldenrod')"
   ]
  },
  {
   "cell_type": "markdown",
   "metadata": {},
   "source": [
    "Built on top of the `scatter` function, the `show_gene_expression` function overlays the gene expressions on the scatter plot."
   ]
  },
  {
   "cell_type": "code",
   "execution_count": null,
   "metadata": {},
   "outputs": [],
   "source": [
    "# plotting the top-ranked SAM gene\n",
    "sam.show_gene_expression(sam.adata.uns['ranked_genes'][0])"
   ]
  }
 ],
 "metadata": {
  "kernelspec": {
   "display_name": "Python 3",
   "language": "python",
   "name": "python3"
  },
  "language_info": {
   "codemirror_mode": {
    "name": "ipython",
    "version": 3
   },
   "file_extension": ".py",
   "mimetype": "text/x-python",
   "name": "python",
   "nbconvert_exporter": "python",
   "pygments_lexer": "ipython3",
   "version": "3.6.8"
  }
 },
 "nbformat": 4,
 "nbformat_minor": 2
}
